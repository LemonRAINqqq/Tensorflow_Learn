{
 "cells": [
  {
   "cell_type": "code",
   "execution_count": 1,
   "metadata": {
    "collapsed": true
   },
   "outputs": [],
   "source": [
    "import tensorflow as tf\n",
    "import numpy\n",
    "import matplotlib.pyplot as plt\n",
    "rng = numpy.random"
   ]
  },
  {
   "cell_type": "code",
   "execution_count": 2,
   "metadata": {
    "collapsed": true
   },
   "outputs": [],
   "source": [
    "# Parameters\n",
    "learning_rate = 0.01\n",
    "training_epochs = 1000\n",
    "display_step = 50\n",
    "\n",
    "\n",
    "# Training Data\n",
    "train_X = numpy.asarray([3.3,4.4,5.5,6.71,6.93,4.168,9.779,6.182,7.59,2.167,\n",
    "                         7.042,10.791,5.313,7.997,5.654,9.27,3.1])\n",
    "train_Y = numpy.asarray([1.7,2.76,2.09,3.19,1.694,1.573,3.366,2.596,2.53,1.221,\n",
    "                         2.827,3.465,1.65,2.904,2.42,2.94,1.3])\n",
    "n_samples = train_X.shape[0]"
   ]
  },
  {
   "cell_type": "code",
   "execution_count": 5,
   "metadata": {
    "collapsed": true
   },
   "outputs": [],
   "source": [
    "# tf Graph Input\n",
    "X = tf.placeholder('float')\n",
    "Y = tf.placeholder('float')\n",
    "# Set model weights\n",
    "W = tf.Variable(rng.rand(),name = 'weighs')\n",
    "b = tf.Variable(rng.rand(),name = 'bias')"
   ]
  },
  {
   "cell_type": "code",
   "execution_count": 6,
   "metadata": {},
   "outputs": [],
   "source": [
    "# Construct a linear model\n",
    "pred = tf.add(tf.multiply(X, W),b)\n",
    "\n",
    "# Mean squared error\n",
    "cost = tf.reduce_sum(tf.pow(pred-Y, 2))/(2*n_samples) #tf.pow 幂值计算\n",
    "# Gradient descent\n",
    "optimizer = tf.train.GradientDescentOptimizer(learning_rate).minimize(cost)\n",
    "\n",
    "init = tf.global_variables_initializer()"
   ]
  },
  {
   "cell_type": "code",
   "execution_count": 8,
   "metadata": {},
   "outputs": [
    {
     "name": "stdout",
     "output_type": "stream",
     "text": [
      "Epoch: 0050 cost= 0.083850235 W= 0.29607946 b= 0.46705094\n",
      "Epoch: 0100 cost= 0.083054692 W= 0.2933146 b= 0.48694038\n",
      "Epoch: 0150 cost= 0.082351178 W= 0.2907143 b= 0.50564694\n",
      "Epoch: 0200 cost= 0.081729122 W= 0.28826874 b= 0.5232401\n",
      "Epoch: 0250 cost= 0.081179045 W= 0.28596854 b= 0.5397875\n",
      "Epoch: 0300 cost= 0.080692597 W= 0.2838051 b= 0.5553511\n",
      "Epoch: 0350 cost= 0.080262490 W= 0.28177035 b= 0.569989\n",
      "Epoch: 0400 cost= 0.079882190 W= 0.27985653 b= 0.583757\n",
      "Epoch: 0450 cost= 0.079545908 W= 0.27805635 b= 0.5967072\n",
      "Epoch: 0500 cost= 0.079248615 W= 0.27636334 b= 0.60888654\n",
      "Epoch: 0550 cost= 0.078985780 W= 0.27477136 b= 0.62033975\n",
      "Epoch: 0600 cost= 0.078753442 W= 0.27327403 b= 0.6311115\n",
      "Epoch: 0650 cost= 0.078548059 W= 0.27186573 b= 0.6412425\n",
      "Epoch: 0700 cost= 0.078366496 W= 0.2705412 b= 0.6507708\n",
      "Epoch: 0750 cost= 0.078205958 W= 0.2692954 b= 0.65973294\n",
      "Epoch: 0800 cost= 0.078064092 W= 0.26812375 b= 0.6681621\n",
      "Epoch: 0850 cost= 0.077938683 W= 0.2670217 b= 0.67608994\n",
      "Epoch: 0900 cost= 0.077827826 W= 0.26598528 b= 0.6835458\n",
      "Epoch: 0950 cost= 0.077729851 W= 0.26501042 b= 0.69055897\n",
      "Epoch: 1000 cost= 0.077643268 W= 0.26409343 b= 0.69715506\n",
      "Optimization Finished!\n",
      "Training cost= 0.07764327 W= 0.26409343 b= 0.69715506 \n",
      "\n"
     ]
    },
    {
     "data": {
      "image/png": "[encoded data removed]",
      "text/plain": [
       "<Figure size 432x288 with 1 Axes>"
      ]
     },
     "metadata": {},
     "output_type": "display_data"
    }
   ],
   "source": [
    "# Start training\n",
    "with tf.Session() as sess:\n",
    "    sess.run(init)\n",
    "    \n",
    "    # Fit all training data\n",
    "    for epoch in range(training_epochs):\n",
    "        for (x, y) in zip(train_X, train_Y): #zip:打包为元组的列表\n",
    "            sess.run(optimizer, feed_dict={X: x, Y: y})\n",
    "            \n",
    "        #Display logs per epoch step\n",
    "        if (epoch+1) % display_step == 0:\n",
    "            c = sess.run(cost, feed_dict={X: train_X, Y:train_Y})\n",
    "            print (\"Epoch:\", '%04d' % (epoch+1), \"cost=\", \"{:.9f}\".format(c), \\\n",
    "                \"W=\", sess.run(W), \"b=\", sess.run(b))\n",
    "\n",
    "    print (\"Optimization Finished!\")\n",
    "    training_cost = sess.run(cost, feed_dict={X: train_X, Y: train_Y})\n",
    "    print (\"Training cost=\", training_cost, \"W=\", sess.run(W), \"b=\", sess.run(b), '\\n')\n",
    "\n",
    "    #Graphic display\n",
    "    plt.plot(train_X, train_Y, 'ro', label='Original data')\n",
    "    plt.plot(train_X, sess.run(W) * train_X + sess.run(b), label='Fitted line')\n",
    "    plt.legend()\n",
    "    plt.show()    "
   ]
  },
  {
   "cell_type": "code",
   "execution_count": null,
   "metadata": {
    "collapsed": true
   },
   "outputs": [],
   "source": []
  }
 ],
 "metadata": {
  "kernelspec": {
   "display_name": "Python 3",
   "language": "python",
   "name": "python3"
  },
  "language_info": {
   "codemirror_mode": {
    "name": "ipython",
    "version": 3
   },
   "file_extension": ".py",
   "mimetype": "text/x-python",
   "name": "python",
   "nbconvert_exporter": "python",
   "pygments_lexer": "ipython3",
   "version": "3.6.2"
  }
 },
 "nbformat": 4,
 "nbformat_minor": 2
}
