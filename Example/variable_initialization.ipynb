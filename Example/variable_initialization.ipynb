{
 "cells": [
  {
   "cell_type": "code",
   "execution_count": 1,
   "metadata": {
    "collapsed": true
   },
   "outputs": [],
   "source": [
    "## This code create some arbitrary variables and initialize them ###\n",
    "# The goal is to show how to define and initialize variables from scratch.\n",
    "\n",
    "import tensorflow as tf\n",
    "from tensorflow.python.framework import ops"
   ]
  },
  {
   "cell_type": "code",
   "execution_count": 2,
   "metadata": {
    "collapsed": true
   },
   "outputs": [],
   "source": [
    "## Defining Variables ##\n",
    "\n",
    "# Create three variables with some default values.\n",
    "weights =tf.Variable(tf.random_normal([2,3], stddev=0.1),\n",
    "                    name='weights')\n",
    "biases = tf.Variable(tf.zeros([3], name = 'biases'))\n",
    "custom_variable = tf.Variable(tf.zeros([3]),name = 'custom')\n",
    "\n",
    "# Get all the variables' tensors and store them in a list.\n",
    "all_variables_list = ops.get_collection(ops.GraphKeys.GLOBAL_VARIABLES)"
   ]
  },
  {
   "cell_type": "code",
   "execution_count": 3,
   "metadata": {
    "collapsed": true
   },
   "outputs": [],
   "source": [
    "#### Customized initializer 自定义初始化####\n",
    "\n",
    "## In this part we choose some variables and only initialize them rather than initializing all variables.\n",
    "\n",
    "variable_list_custom = [weights, custom_variable]\n",
    "\n",
    "# The initializer\n",
    "init_custom_op = tf.variables_initializer(var_list=variable_list_custom)"
   ]
  },
  {
   "cell_type": "code",
   "execution_count": 4,
   "metadata": {
    "collapsed": true
   },
   "outputs": [],
   "source": [
    "#### Global initializer 全局初始化#####\n",
    "\n",
    "# Method-1\n",
    "# Add an op to initialize the variables.\n",
    "init_all_op = tf.global_variables_initializer()\n",
    "\n",
    "# Method-2 同自定义初始化\n",
    "init_all_op = tf.variables_initializer(var_list=all_variables_list)"
   ]
  },
  {
   "cell_type": "code",
   "execution_count": 5,
   "metadata": {
    "collapsed": true
   },
   "outputs": [],
   "source": [
    "#### Initialization using other variables 使用其他变量初始化 #####\n",
    "\n",
    "# Create another variable with the same value as 'weights'.\n",
    "WeightsNew = tf.Variable(weights.initialized_value(), name=\"WeightsNew\")\n",
    "\n",
    "# Now, the variable must be initialized.\n",
    "init_WeightsNew_op = tf.variables_initializer(var_list=[WeightsNew]) #注意[]. guess:需要传入list"
   ]
  },
  {
   "cell_type": "code",
   "execution_count": 7,
   "metadata": {
    "collapsed": true
   },
   "outputs": [],
   "source": [
    "######################################\n",
    "####### Running the session ##########\n",
    "######################################\n",
    "with tf.Session() as sess:\n",
    "    # Run the initializer operation.\n",
    "    sess.run(init_all_op)\n",
    "    sess.run(init_custom_op)\n",
    "    sess.run(init_WeightsNew_op)"
   ]
  },
  {
   "cell_type": "markdown",
   "metadata": {},
   "source": [
    "# Summary\n",
    "\n",
    "In this tutorial, we walked through the variable creation and initialization. \n",
    "The global, custom and inherited variable initialization have been investigated. \n",
    "\n",
    "Then,we investigate how to save and restore the variables"
   ]
  }
 ],
 "metadata": {
  "kernelspec": {
   "display_name": "Python 3",
   "language": "python",
   "name": "python3"
  },
  "language_info": {
   "codemirror_mode": {
    "name": "ipython",
    "version": 3
   },
   "file_extension": ".py",
   "mimetype": "text/x-python",
   "name": "python",
   "nbconvert_exporter": "python",
   "pygments_lexer": "ipython3",
   "version": "3.6.2"
  }
 },
 "nbformat": 4,
 "nbformat_minor": 2
}
